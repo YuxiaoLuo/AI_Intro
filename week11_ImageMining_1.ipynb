{
 "cells": [
  {
   "cell_type": "markdown",
   "id": "4e6e56bb",
   "metadata": {},
   "source": [
    "# Hands-on Session for Image Mining 1\n",
    "\n",
    "Credit to: [Youngeui Kim](https://cis.appstate.edu/directory/youngeui-kim-phd), [Yuxiao (Rain) Luo](https://yuxiaoluo.github.io)\n",
    "\n",
    "[![Open In Colab](https://colab.research.google.com/assets/colab-badge.svg)](https://colab.research.google.com/github/YuxiaoLuo/AI_Intro/blob/main/week11_ImageMining_1.ipynb)\n",
    "\n",
    "This session introduces how to detect objects in an image using Python library."
   ]
  },
  {
   "cell_type": "code",
   "execution_count": null,
   "id": "f498cb82",
   "metadata": {},
   "outputs": [],
   "source": [
    "import tensorflow as tf\n",
    "import numpy as np\n",
    "import matplotlib.pyplot as plt\n",
    "import cv2"
   ]
  },
  {
   "cell_type": "code",
   "execution_count": 1,
   "id": "61a8e784",
   "metadata": {},
   "outputs": [],
   "source": [
    "filename = 'data/week11_person.jpg' # edit the format (.jpg) appropriately"
   ]
  },
  {
   "cell_type": "markdown",
   "id": "75beb1b8",
   "metadata": {},
   "source": [
    "## Let's try MobileNet\n",
    "Load pre-trained algorithms (i.e., MobileNet)"
   ]
  },
  {
   "cell_type": "code",
   "execution_count": null,
   "id": "ba12e3e9",
   "metadata": {},
   "outputs": [],
   "source": [
    "mobile = tf.keras.applications.mobilenet.MobileNet()"
   ]
  },
  {
   "cell_type": "markdown",
   "id": "7bbf1cc9",
   "metadata": {},
   "source": [
    "Pre-process the image."
   ]
  },
  {
   "cell_type": "code",
   "execution_count": null,
   "id": "0617d3e6",
   "metadata": {},
   "outputs": [],
   "source": [
    "from tensorflow.keras.preprocessing import image\n",
    "img = image.load_img(filename, target_size = (224, 224))\n",
    "resized_img = image.img_to_array(img)\n",
    "final_image = np.expand_dims(resized_img, axis=0)  #need fourth dimension \n",
    "final_image = tf.keras.applications.mobilenet.preprocess_input(final_image)\n",
    "plt.imshow(img)"
   ]
  },
  {
   "cell_type": "markdown",
   "id": "160bf482",
   "metadata": {},
   "source": [
    "Run the prediction"
   ]
  },
  {
   "cell_type": "code",
   "execution_count": null,
   "id": "a3eadecf",
   "metadata": {},
   "outputs": [],
   "source": [
    "predictions = mobile.predict(final_image) "
   ]
  },
  {
   "cell_type": "markdown",
   "id": "a68cc023",
   "metadata": {},
   "source": [
    "Print out the results"
   ]
  },
  {
   "cell_type": "code",
   "execution_count": null,
   "id": "2aa023e6",
   "metadata": {},
   "outputs": [],
   "source": [
    "from tensorflow.keras.applications import imagenet_utils\n",
    "\n",
    "results = imagenet_utils.decode_predictions(predictions, top = 10)\n",
    "print(results)"
   ]
  },
  {
   "cell_type": "markdown",
   "id": "cd7ac3bb",
   "metadata": {},
   "source": [
    "## Let's try  a different pre-trained algorithms (i.e., MobileNet V2)"
   ]
  },
  {
   "cell_type": "code",
   "execution_count": null,
   "id": "05d603cd",
   "metadata": {},
   "outputs": [],
   "source": [
    "mobile = tf.keras.applications.mobilenet_v2.MobileNetV2()\n",
    "predictions = mobile.predict(final_image)\n",
    "results = imagenet_utils.decode_predictions(predictions, top = 10)\n",
    "print(results)"
   ]
  },
  {
   "cell_type": "markdown",
   "id": "d9171664",
   "metadata": {},
   "source": [
    "Last,\n",
    "- Try more classification algorithms here: https://www.tensorflow.org/api_docs/python/tf/keras/applications/mobilenet/preprocess_input\n",
    "- E.g., `tf.keras.applications.ResNet50`, `tf.keras.applications.ResNet50V2`"
   ]
  },
  {
   "cell_type": "code",
   "execution_count": null,
   "id": "7b74a83f",
   "metadata": {},
   "outputs": [],
   "source": []
  }
 ],
 "metadata": {
  "kernelspec": {
   "display_name": "Python 3 (ipykernel)",
   "language": "python",
   "name": "python3"
  },
  "language_info": {
   "codemirror_mode": {
    "name": "ipython",
    "version": 3
   },
   "file_extension": ".py",
   "mimetype": "text/x-python",
   "name": "python",
   "nbconvert_exporter": "python",
   "pygments_lexer": "ipython3",
   "version": "3.11.1"
  }
 },
 "nbformat": 4,
 "nbformat_minor": 5
}

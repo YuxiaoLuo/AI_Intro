{
 "cells": [
  {
   "cell_type": "markdown",
   "id": "a368b41d",
   "metadata": {},
   "source": [
    "# Data Types and Structures\n",
    "#### Author: [Yuxiao (Rain) Luo](https://github.com/YuxiaoLuo)\n",
    "\n",
    "- Data types are classifications associated with specific data that let the computer know how to interpret the value and how a programmer intends to use a piece of data. \n",
    "\n",
    "- Data types are common in many programming languages, and each data type has its own unique properties.\n",
    "\n",
    "## Here is a list of common data types in Python:\n",
    "\n",
    "1. Numeric Types:\n",
    "    - `int`: integer, whole numbers (e.g., `1`, `2`, `-3`)\n",
    "    - `float`: decimal numbers (e.g., `3.14`, `-2.7`)\n",
    "    - `complex`: complex numbers (e.g., `1 + 2j`)\n",
    "2. Sequence Types:\n",
    "    - `str`: string, a sequence of characters (e.g., `\"Hello, World!\"`)\n",
    "    - `list`: an ordered, mutable collection of items (e.g., `[1, 2, \"three\"]`)\n",
    "    - `tuple`: an ordered, immutable collection of items (e.g., `(1, 2, \"three\")`)\n",
    "3. Mapping Type:\n",
    "    - `dict`: dictionary, a collection of key-value pairs (e.g., `{\"name\": \"Rain\", \"age\": 30}`)\n",
    "4. Set Types:\n",
    "    - `set`: an unordered collection of unique items (e.g., `{1, 2, 3}`)\n",
    "    - `frozenset`: an unordered, immutable collection of unique items (e.g., frozenset`({1, 2, 3})`)\n",
    "5. Boolean Type:\n",
    "    - `bool`: boolean, a logical value (`True` or `False`)\n",
    "6. None Type:\n",
    "    - `None`: the absence of a value (i.e., not available, N/A, NA)\n",
    "    \n",
    "\n",
    "*These are the rules you need to memorize, like you need to memorize the chords and notes when learning how to play a guitar.*"
   ]
  },
  {
   "cell_type": "markdown",
   "id": "8bc07524",
   "metadata": {},
   "source": [
    "[![Open In Colab](https://colab.research.google.com/assets/colab-badge.svg)](https://colab.research.google.com/github/YuxiaoLuo/AI_Intro/blob/main/python_type_structure.ipynb)"
   ]
  },
  {
   "cell_type": "code",
   "execution_count": 62,
   "id": "6e0c8f00",
   "metadata": {},
   "outputs": [],
   "source": [
    "# display multiple outputs\n",
    "from IPython.core.interactiveshell import InteractiveShell\n",
    "InteractiveShell.ast_node_interactivity = \"all\""
   ]
  },
  {
   "cell_type": "markdown",
   "id": "fc800269",
   "metadata": {},
   "source": [
    "### Check data type\n",
    "`type()` is a handy function that returns the data type of any Python object."
   ]
  },
  {
   "cell_type": "code",
   "execution_count": 12,
   "id": "12b24160",
   "metadata": {},
   "outputs": [
    {
     "name": "stdout",
     "output_type": "stream",
     "text": [
      "<class 'int'>\n",
      "<class 'str'>\n",
      "<class 'float'>\n"
     ]
    }
   ],
   "source": [
    "# int\n",
    "print(type(1))\n",
    "# str\n",
    "print(type(\"Hello, World!\"))\n",
    "# float\n",
    "print(type(1.3))"
   ]
  },
  {
   "cell_type": "code",
   "execution_count": 13,
   "id": "6b4e590f",
   "metadata": {},
   "outputs": [
    {
     "data": {
      "text/plain": [
       "float"
      ]
     },
     "execution_count": 13,
     "metadata": {},
     "output_type": "execute_result"
    }
   ],
   "source": [
    "type(1812312.1)"
   ]
  },
  {
   "cell_type": "markdown",
   "id": "14bb6a57",
   "metadata": {},
   "source": [
    "Notice the difference between a string `True` and a boolean `True`."
   ]
  },
  {
   "cell_type": "code",
   "execution_count": 11,
   "id": "f1cd6510",
   "metadata": {},
   "outputs": [
    {
     "name": "stdout",
     "output_type": "stream",
     "text": [
      "<class 'str'>\n",
      "<class 'bool'>\n"
     ]
    }
   ],
   "source": [
    "# first True is str\n",
    "print(type('True'))\n",
    "\n",
    "# second True is bool\n",
    "print(type(True))"
   ]
  },
  {
   "cell_type": "markdown",
   "id": "3fed5bb7",
   "metadata": {},
   "source": [
    "### Assign value to variable\n",
    "In Python, the data type is set when you assign a value to a varaible"
   ]
  },
  {
   "cell_type": "code",
   "execution_count": 22,
   "id": "9769240d",
   "metadata": {},
   "outputs": [
    {
     "name": "stdout",
     "output_type": "stream",
     "text": [
      "The value of variable 'x' is CIS2350 and the data type is <class 'str'>\n",
      "The value of variable 'x' is 20 and the data type is <class 'int'>\n",
      "The value of variable 'x' is 20.3434 and the data type is <class 'float'>\n",
      "The value of variable 'x' is None and the data type is <class 'NoneType'>\n",
      "The value of variable 'x' is True and the data type is <class 'bool'>\n",
      "The value of variable 'x' is {'course': 'cis2350', 'instructor': 'Dr. Luo'} and the data type is <class 'dict'>\n"
     ]
    }
   ],
   "source": [
    "# str\n",
    "x = \"CIS2350\"\n",
    "print(f\"The value of variable 'x' is {x} and the data type is {type(x)}\")\n",
    "\n",
    "# int\n",
    "x = 20\n",
    "print(f\"The value of variable 'x' is {x} and the data type is {type(x)}\")\n",
    "\n",
    "# float\n",
    "x = 20.3434\n",
    "print(f\"The value of variable 'x' is {x} and the data type is {type(x)}\")\n",
    "\n",
    "# None\n",
    "x = None\n",
    "print(f\"The value of variable 'x' is {x} and the data type is {type(x)}\")\n",
    "\n",
    "# bool\n",
    "x = True\n",
    "print(f\"The value of variable 'x' is {x} and the data type is {type(x)}\")\n",
    "\n",
    "# dict\n",
    "x = {\"course\" : \"cis2350\", \"instructor\" : \"Dr. Luo\"}\n",
    "print(f\"The value of variable 'x' is {x} and the data type is {type(x)}\")"
   ]
  },
  {
   "cell_type": "markdown",
   "id": "a14edf0a",
   "metadata": {},
   "source": [
    "### Specify data type for varaible\n",
    "If you want to specify the data type, you can use the following constructor functions. You may also find that these functions are spelled the same as the names of data types."
   ]
  },
  {
   "cell_type": "code",
   "execution_count": 30,
   "id": "bcf33587",
   "metadata": {},
   "outputs": [
    {
     "name": "stdout",
     "output_type": "stream",
     "text": [
      "The value of variable 'x' is 20 and the data type is <class 'int'>\n",
      "The value of variable 'x' is 'CIS course' and the data type is <class 'str'>\n",
      "The value of variable 'x' is '['apple', 'banana', 'cherry']' and the data type is <class 'list'>\n"
     ]
    }
   ],
   "source": [
    "x = int(20)\n",
    "print(f\"The value of variable 'x' is {x} and the data type is {type(x)}\")\n",
    "\n",
    "x = str(\"CIS course\")\n",
    "print(f\"The value of variable 'x' is '{x}' and the data type is {type(x)}\")\n",
    "\n",
    "x = list((\"apple\", \"banana\", \"cherry\"))\n",
    "print(f\"The value of variable 'x' is '{x}' and the data type is {type(x)}\")"
   ]
  },
  {
   "cell_type": "markdown",
   "id": "b901d698",
   "metadata": {},
   "source": [
    "These functions will convert whatever values to the format coercively, even the value doesn't look right."
   ]
  },
  {
   "cell_type": "code",
   "execution_count": 35,
   "id": "26968c93",
   "metadata": {},
   "outputs": [
    {
     "name": "stdout",
     "output_type": "stream",
     "text": [
      "The value of variable 'x' is 20 and the data type is <class 'int'>\n",
      "The value of variable 'x' is 'True' and the data type is <class 'bool'>\n"
     ]
    }
   ],
   "source": [
    "# 20.5 should be a floating point value rather than an integer by nature\n",
    "# int() will convert it to 20 to make it an integer\n",
    "x = int(20.5)\n",
    "print(f\"The value of variable 'x' is {x} and the data type is {type(x)}\")\n",
    "\n",
    "# 5 should be an integer rather than a boolean by nature\n",
    "# bool() will convert it to 'True' to make it a boolean value\n",
    "x = bool(5)\n",
    "print(f\"The value of variable 'x' is '{x}' and the data type is {type(x)}\")"
   ]
  },
  {
   "cell_type": "markdown",
   "id": "739f2570",
   "metadata": {},
   "source": [
    "### Variable names and keywords\n",
    "\n",
    "1. Programmers generally choose names for their variables that are meaningful and document what the variable is used for.\n",
    "\n",
    "2. Variable names can be arbitrarily long. They can contain both letters and numbers, but they cannot start with a number. \n",
    "\n",
    "3. It is legal to use uppercase letters, but it is a good idea to begin variable names with a lowercase letter (you’ll see why later).\n",
    "\n",
    "3. The underscore character ( _ ) can appear in a name. It is often used in names with multiple words, such as my_name or airspeed_of_unladen_swallow. \n",
    "\n",
    "4. Variable names can start with an underscore character, but we generally avoid doing this unless we are writing library code for others to use."
   ]
  },
  {
   "cell_type": "markdown",
   "id": "e6d56f7d",
   "metadata": {},
   "source": [
    "`2350cis` is illegal because it begins with a number. `cis@` is illegal because it contains an illegal character, `@`. But what’s wrong with `if`? Because `if` is one of Python’s keywords. \n",
    "\n",
    "The interpreter uses keywords to recognize the structure of the program, and they cannot be used as variable names.\n",
    "\n",
    "Python reserves 35 keywords:\n",
    "\n"
   ]
  },
  {
   "cell_type": "markdown",
   "id": "c2067d10",
   "metadata": {},
   "source": [
    "```\n",
    "False      await      else       import     pass\n",
    "None       break      except     in         raise\n",
    "True       class      finally    is         return\n",
    "and        continue   for        lambda     try\n",
    "as         def        from       nonlocal   while\n",
    "assert     del        global     not        with\n",
    "async      elif       if         or         yield\n",
    "```"
   ]
  },
  {
   "cell_type": "markdown",
   "id": "cd5f6f71",
   "metadata": {},
   "source": [
    "*Avoid using these names for your variables*"
   ]
  },
  {
   "cell_type": "markdown",
   "id": "c4f012ac",
   "metadata": {},
   "source": [
    "## Data structures\n",
    "\n",
    "There are 4 main data structures in Python:\n",
    "- `list`\n",
    "- `set`\n",
    "- `tuple`\n",
    "- `dict` \n",
    "\n",
    "Data structures are “containers” that organize and group data according to type. The data structures differ based on mutability and order."
   ]
  },
  {
   "cell_type": "markdown",
   "id": "c90d9a73",
   "metadata": {},
   "source": [
    "### `list` operations\n",
    "1. Create list: `[]`\n",
    "2. Add items to the end of list\n",
    "3. remove last item from list"
   ]
  },
  {
   "cell_type": "code",
   "execution_count": 5,
   "id": "4a7ce612",
   "metadata": {},
   "outputs": [
    {
     "name": "stdout",
     "output_type": "stream",
     "text": [
      "[]\n"
     ]
    }
   ],
   "source": [
    "#creating a empty list and adding numbers\n",
    "empty_list = []\n",
    "print(empty_list)"
   ]
  },
  {
   "cell_type": "code",
   "execution_count": 2,
   "id": "60bd6cf0",
   "metadata": {},
   "outputs": [
    {
     "name": "stdout",
     "output_type": "stream",
     "text": [
      "List of Numbers: [1, 2, 3, 4, 5]\n"
     ]
    }
   ],
   "source": [
    "# List with items\n",
    "numbers = [1, 2, 3, 4, 5]\n",
    "print(\"List of Numbers:\", numbers)"
   ]
  },
  {
   "cell_type": "code",
   "execution_count": 3,
   "id": "1a56b9da",
   "metadata": {},
   "outputs": [
    {
     "name": "stdout",
     "output_type": "stream",
     "text": [
      "Mixed List: [1, 'Hello', 3.14, True]\n"
     ]
    }
   ],
   "source": [
    "# List with mixed data types\n",
    "mixed_list = [1, \"Hello\", 3.14, True]\n",
    "print(\"Mixed List:\", mixed_list)"
   ]
  },
  {
   "cell_type": "code",
   "execution_count": 4,
   "id": "89cef1e9",
   "metadata": {},
   "outputs": [
    {
     "name": "stdout",
     "output_type": "stream",
     "text": [
      "[1, 2, 3, 4, 5, 100]\n",
      "[1, 'Hello', 3.14, True, 'Dr. Luo!']\n"
     ]
    }
   ],
   "source": [
    "# list.append(x) :add an item to the end of the list\n",
    "numbers.append(100) \n",
    "print(numbers)\n",
    "\n",
    "mixed_list.append(\"Dr. Luo!\")\n",
    "print(mixed_list)"
   ]
  },
  {
   "cell_type": "code",
   "execution_count": 5,
   "id": "331b1ec2",
   "metadata": {},
   "outputs": [
    {
     "name": "stdout",
     "output_type": "stream",
     "text": [
      "[1, 'Hello', 3.14, True]\n"
     ]
    }
   ],
   "source": [
    "# list.pop(): removes and returns the last item in the list\n",
    "mixed_list.pop()\n",
    "print(mixed_list)"
   ]
  },
  {
   "cell_type": "markdown",
   "id": "8b4508ac",
   "metadata": {},
   "source": [
    "4. Accessing Items in a List"
   ]
  },
  {
   "cell_type": "code",
   "execution_count": 6,
   "id": "69dbb5c4",
   "metadata": {},
   "outputs": [
    {
     "name": "stdout",
     "output_type": "stream",
     "text": [
      "First item in numbers: 1\n",
      "Second item in mixed_list: Hello\n"
     ]
    }
   ],
   "source": [
    "# Accessing items by index (indexing starts at 0 in Python)\n",
    "print(\"First item in numbers:\", numbers[0])\n",
    "print(\"Second item in mixed_list:\", mixed_list[1])"
   ]
  },
  {
   "cell_type": "markdown",
   "id": "a5da05e1",
   "metadata": {},
   "source": [
    "5. Slicing a List"
   ]
  },
  {
   "cell_type": "code",
   "execution_count": 7,
   "id": "f28a03f6",
   "metadata": {},
   "outputs": [
    {
     "name": "stdout",
     "output_type": "stream",
     "text": [
      "First three items in numbers: [1, 2, 3]\n"
     ]
    }
   ],
   "source": [
    "# Slicing to get a subset of items\n",
    "print(\"First three items in numbers:\", numbers[:3])"
   ]
  },
  {
   "cell_type": "code",
   "execution_count": 8,
   "id": "5a1a4cad",
   "metadata": {},
   "outputs": [
    {
     "name": "stdout",
     "output_type": "stream",
     "text": [
      "Items from index 2 to the end: [3, 4, 5, 100]\n"
     ]
    }
   ],
   "source": [
    "print(\"Items from index 2 to the end:\", numbers[2:])"
   ]
  },
  {
   "cell_type": "markdown",
   "id": "2615154b",
   "metadata": {},
   "source": [
    "6. Modifying a List"
   ]
  },
  {
   "cell_type": "code",
   "execution_count": 9,
   "id": "eb23cdbb",
   "metadata": {},
   "outputs": [
    {
     "name": "stdout",
     "output_type": "stream",
     "text": [
      "[1, 2, 3, 4, 5, 100]\n"
     ]
    }
   ],
   "source": [
    "print(numbers)"
   ]
  },
  {
   "cell_type": "code",
   "execution_count": 10,
   "id": "1d710247",
   "metadata": {},
   "outputs": [
    {
     "name": "stdout",
     "output_type": "stream",
     "text": [
      "Modified numbers list: [10, 2, 3, 4, 5, 100]\n"
     ]
    }
   ],
   "source": [
    "# Changing an item by index\n",
    "numbers[0] = 10\n",
    "print(\"Modified numbers list:\", numbers)"
   ]
  },
  {
   "cell_type": "markdown",
   "id": "97ade098",
   "metadata": {},
   "source": [
    "#### `list` methods (remove, insert, locate position of each component, extend list)\n",
    "- retrieve item index\n",
    "    - `list.index()` return index of the first element equal to the argument\n",
    "\n",
    "- add items to list \n",
    "    - `list.append(x)` add an item to the end of the list\n",
    "    - `list.insert(i, x)` insert an item x at a given position i\n",
    "    - `list.extend(iterable)` extend the list by appending all the items from the iterable\n",
    "- remove items\n",
    "    - `list.pop()` removes and returns the last item in the list\n",
    "    - `del list[i]` delete an item at a give position i\n",
    "    - `list.remove(x)` remove the first item from the list whose value is equal to x"
   ]
  },
  {
   "cell_type": "markdown",
   "id": "c07a9580",
   "metadata": {},
   "source": [
    "7. Adding Items to a List"
   ]
  },
  {
   "cell_type": "code",
   "execution_count": 11,
   "id": "2c012584",
   "metadata": {},
   "outputs": [
    {
     "name": "stdout",
     "output_type": "stream",
     "text": [
      "List after appending 6: [10, 2, 3, 4, 5, 100, 6]\n"
     ]
    }
   ],
   "source": [
    "# Adding a single item\n",
    "numbers.append(6)\n",
    "print(\"List after appending 6:\", numbers)"
   ]
  },
  {
   "cell_type": "code",
   "execution_count": 12,
   "id": "b50a23c9",
   "metadata": {},
   "outputs": [
    {
     "name": "stdout",
     "output_type": "stream",
     "text": [
      "List after extending with [7, 8, 9]: [10, 2, 3, 4, 5, 100, 6, 7, 8, 9]\n"
     ]
    }
   ],
   "source": [
    "# Adding multiple items\n",
    "numbers.extend([7, 8, 9])\n",
    "print(\"List after extending with [7, 8, 9]:\", numbers)"
   ]
  },
  {
   "cell_type": "code",
   "execution_count": 13,
   "id": "6f3a02fc",
   "metadata": {},
   "outputs": [
    {
     "name": "stdout",
     "output_type": "stream",
     "text": [
      "List after inserting 15 at index 1: [10, 15, 2, 3, 4, 5, 100, 6, 7, 8, 9]\n"
     ]
    }
   ],
   "source": [
    "# Inserting an item at a specific index\n",
    "numbers.insert(1, 15)\n",
    "print(\"List after inserting 15 at index 1:\", numbers)"
   ]
  },
  {
   "cell_type": "markdown",
   "id": "dd49290d",
   "metadata": {},
   "source": [
    "8. Removing Items from a List"
   ]
  },
  {
   "cell_type": "code",
   "execution_count": 14,
   "id": "e6957469",
   "metadata": {},
   "outputs": [
    {
     "name": "stdout",
     "output_type": "stream",
     "text": [
      "List after removing 15: [10, 2, 3, 4, 5, 100, 6, 7, 8, 9]\n"
     ]
    }
   ],
   "source": [
    "# Removing an item by value\n",
    "numbers.remove(15)\n",
    "print(\"List after removing 15:\", numbers)"
   ]
  },
  {
   "cell_type": "code",
   "execution_count": 16,
   "id": "bbf672e4",
   "metadata": {},
   "outputs": [
    {
     "name": "stdout",
     "output_type": "stream",
     "text": [
      "List after popping item at index 2: [10, 2, 4, 5, 100, 6, 7, 8, 9]\n",
      "Removed item: 3\n"
     ]
    }
   ],
   "source": [
    "# Removing an item by index\n",
    "removed_item = numbers.pop(2)\n",
    "print(\"List after popping item at index 2:\", numbers)\n",
    "print(\"Removed item:\", removed_item)"
   ]
  },
  {
   "cell_type": "code",
   "execution_count": 17,
   "id": "966a8156",
   "metadata": {},
   "outputs": [
    {
     "name": "stdout",
     "output_type": "stream",
     "text": [
      "List after clearing: []\n"
     ]
    }
   ],
   "source": [
    "# Clearing a List\n",
    "numbers.clear()\n",
    "print(\"List after clearing:\", numbers)"
   ]
  },
  {
   "cell_type": "markdown",
   "id": "d07e5057",
   "metadata": {},
   "source": [
    "9. Common List Methods\n"
   ]
  },
  {
   "cell_type": "code",
   "execution_count": 18,
   "id": "8eae39d7",
   "metadata": {},
   "outputs": [
    {
     "name": "stdout",
     "output_type": "stream",
     "text": [
      "Length of mixed_list: 4\n"
     ]
    }
   ],
   "source": [
    "# Using the `len()` function to get the length of a list\n",
    "length = len(mixed_list)\n",
    "print(\"Length of mixed_list:\", length)"
   ]
  },
  {
   "cell_type": "code",
   "execution_count": 20,
   "id": "4c1020ac",
   "metadata": {},
   "outputs": [
    {
     "name": "stdout",
     "output_type": "stream",
     "text": [
      "[1, 'Hello', 3.14, True]\n"
     ]
    }
   ],
   "source": [
    "print(mixed_list)"
   ]
  },
  {
   "cell_type": "code",
   "execution_count": 19,
   "id": "09785bcb",
   "metadata": {},
   "outputs": [
    {
     "name": "stdout",
     "output_type": "stream",
     "text": [
      "Is 'Hello' in mixed_list?: True\n"
     ]
    }
   ],
   "source": [
    "# Using `in` to check for membership\n",
    "is_hello_in_list = \"Hello\" in mixed_list\n",
    "print(\"Is 'Hello' in mixed_list?:\", is_hello_in_list)"
   ]
  },
  {
   "cell_type": "code",
   "execution_count": 21,
   "id": "3b839a8f",
   "metadata": {},
   "outputs": [
    {
     "name": "stdout",
     "output_type": "stream",
     "text": [
      "Sorted numbers: [1, 2, 3, 5, 8]\n"
     ]
    }
   ],
   "source": [
    "# Sorting a List (with numbers)\n",
    "numbers = [5, 2, 8, 3, 1]\n",
    "numbers.sort()\n",
    "print(\"Sorted numbers:\", numbers)"
   ]
  },
  {
   "cell_type": "code",
   "execution_count": 22,
   "id": "2af1c3ef",
   "metadata": {},
   "outputs": [
    {
     "name": "stdout",
     "output_type": "stream",
     "text": [
      "Numbers sorted in descending order: [8, 5, 3, 2, 1]\n"
     ]
    }
   ],
   "source": [
    "# Sorting in descending order\n",
    "numbers.sort(reverse=True)\n",
    "print(\"Numbers sorted in descending order:\", numbers)"
   ]
  },
  {
   "cell_type": "markdown",
   "id": "327c595e",
   "metadata": {},
   "source": [
    "10. Iterating Over a List & List Comprehension"
   ]
  },
  {
   "cell_type": "code",
   "execution_count": 24,
   "id": "dd46b4c6",
   "metadata": {},
   "outputs": [
    {
     "name": "stdout",
     "output_type": "stream",
     "text": [
      "Item: 1\n",
      "Item: Hello\n",
      "Item: 3.14\n",
      "Item: True\n"
     ]
    }
   ],
   "source": [
    "# Using a `for` loop\n",
    "for item in mixed_list:\n",
    "    print(\"Item:\", item)"
   ]
  },
  {
   "cell_type": "code",
   "execution_count": 25,
   "id": "dd2f5985",
   "metadata": {},
   "outputs": [
    {
     "name": "stdout",
     "output_type": "stream",
     "text": [
      "Squares: [0, 1, 4, 9, 16, 25, 36, 49, 64, 81]\n"
     ]
    }
   ],
   "source": [
    "# Creating a new list with squares of numbers from 0 to 9\n",
    "squares = [x**2 for x in range(10)]\n",
    "print(\"Squares:\", squares)"
   ]
  },
  {
   "cell_type": "markdown",
   "id": "36cf52b3",
   "metadata": {},
   "source": [
    "11. Nested Lists"
   ]
  },
  {
   "cell_type": "code",
   "execution_count": 27,
   "id": "2b08253f",
   "metadata": {},
   "outputs": [
    {
     "name": "stdout",
     "output_type": "stream",
     "text": [
      "Nested List: [[1, 2], [3, 4], [5, 6]]\n"
     ]
    }
   ],
   "source": [
    "# A list can contain other lists\n",
    "nested_list = [[1, 2], [3, 4], [5, 6]]\n",
    "print(\"Nested List:\", nested_list)"
   ]
  },
  {
   "cell_type": "code",
   "execution_count": 28,
   "id": "1a7076a8",
   "metadata": {},
   "outputs": [
    {
     "name": "stdout",
     "output_type": "stream",
     "text": [
      "First list in nested_list: [1, 2]\n",
      "Second item in the first list: 2\n"
     ]
    }
   ],
   "source": [
    "# Accessing items in a nested list\n",
    "print(\"First list in nested_list:\", nested_list[0])\n",
    "print(\"Second item in the first list:\", nested_list[0][1])"
   ]
  },
  {
   "cell_type": "markdown",
   "id": "d99d9dc5",
   "metadata": {},
   "source": [
    "#### List comprehension\n",
    "\n",
    "List comprehension is a shorter syntax for `for` loop.\n",
    "\n",
    "1. Let's create a new list based on the values of an existing list.\n",
    "    - *output_list = [item for item in existing_list if (condition to be satisfied)]*"
   ]
  },
  {
   "cell_type": "code",
   "execution_count": 1,
   "id": "0c0e8e98",
   "metadata": {},
   "outputs": [
    {
     "data": {
      "text/plain": [
       "[0, 1, 2, 3, 4, 5, 6, 7, 8, 9]"
      ]
     },
     "execution_count": 1,
     "metadata": {},
     "output_type": "execute_result"
    }
   ],
   "source": [
    "list(range(10))"
   ]
  },
  {
   "cell_type": "code",
   "execution_count": 2,
   "id": "189790c6",
   "metadata": {},
   "outputs": [
    {
     "name": "stdout",
     "output_type": "stream",
     "text": [
      "[0]\n",
      "[0, 1]\n",
      "[0, 1, 4]\n",
      "[0, 1, 4, 9]\n",
      "[0, 1, 4, 9, 16]\n",
      "[0, 1, 4, 9, 16, 25]\n",
      "[0, 1, 4, 9, 16, 25, 36]\n",
      "[0, 1, 4, 9, 16, 25, 36, 49]\n",
      "[0, 1, 4, 9, 16, 25, 36, 49, 64]\n",
      "[0, 1, 4, 9, 16, 25, 36, 49, 64, 81]\n"
     ]
    }
   ],
   "source": [
    "newlist = []\n",
    "for x in range(10):\n",
    "    newlist.append(x**2)\n",
    "    print(newlist)"
   ]
  },
  {
   "cell_type": "code",
   "execution_count": 3,
   "id": "34f3ba5f",
   "metadata": {},
   "outputs": [
    {
     "data": {
      "text/plain": [
       "[0, 1, 4, 9, 16, 25, 36, 49, 64, 81]"
      ]
     },
     "execution_count": 3,
     "metadata": {},
     "output_type": "execute_result"
    }
   ],
   "source": [
    "newlist2 = [x**2 for x in range(10)]\n",
    "newlist2"
   ]
  },
  {
   "cell_type": "markdown",
   "id": "9701ada8",
   "metadata": {},
   "source": [
    "2. Let's create a new list based on the values that satisfy a condition in an existing list.\n",
    "    - output_list = [item for item in existing_list if (condition to be satisfied) ]"
   ]
  },
  {
   "cell_type": "code",
   "execution_count": 4,
   "id": "0cab9f9b",
   "metadata": {},
   "outputs": [
    {
     "name": "stdout",
     "output_type": "stream",
     "text": [
      "['Apple', 'banana', 'mango', 'Avocado', 'blackberry']\n"
     ]
    }
   ],
   "source": [
    "fruits = [\"Apple\", \"banana\", \"cherry\", \"kiwi\", \"mango\", \"Avocado\", \"blackberry\"]\n",
    "\n",
    "newlist3 = [f for f in fruits if 'a' in f or 'A' in f]\n",
    "\n",
    "print(newlist3)"
   ]
  },
  {
   "cell_type": "markdown",
   "id": "bddc1cb6",
   "metadata": {},
   "source": [
    "### `tuple` operations\n",
    "- similar to lists but are immutable, meaning that elements cannot be added or removed after creation\n",
    "    - create `tuple` using `()`\n",
    "- when to use tuple?\n",
    "    - Choose tuple if elements don't change\n",
    "- heterogeneous Data:\n",
    "    - Tuples can contain elements of different data types, such as integers, strings, and even other tuples."
   ]
  },
  {
   "cell_type": "code",
   "execution_count": 5,
   "id": "e0188d90",
   "metadata": {},
   "outputs": [
    {
     "name": "stdout",
     "output_type": "stream",
     "text": [
      "(0, 1, 2, 3, 4)\n"
     ]
    }
   ],
   "source": [
    "# create tuple using ()\n",
    "tup = (0,1,2,3,4)\n",
    "print(tup)"
   ]
  },
  {
   "cell_type": "code",
   "execution_count": 6,
   "id": "3f2382cf",
   "metadata": {},
   "outputs": [
    {
     "data": {
      "text/plain": [
       "2"
      ]
     },
     "execution_count": 6,
     "metadata": {},
     "output_type": "execute_result"
    }
   ],
   "source": [
    "# locate elements in duple\n",
    "tup[2]"
   ]
  },
  {
   "cell_type": "code",
   "execution_count": 8,
   "id": "b90da1bc",
   "metadata": {},
   "outputs": [
    {
     "data": {
      "text/plain": [
       "(0, 1, 2, 3, 4, 'hello', 10, True)"
      ]
     },
     "execution_count": 8,
     "metadata": {},
     "output_type": "execute_result"
    }
   ],
   "source": [
    "# add elements in tuple\n",
    "tup + (\"hello\", 10, True)"
   ]
  },
  {
   "cell_type": "markdown",
   "id": "7c4d4e50",
   "metadata": {},
   "source": [
    "### Sets\n",
    "- also similar to lists, but they store a unique and unordered collection of items, with no duplicates\n",
    "- set will automatically reorder the number and delete duplicates\n",
    "- use `{}`"
   ]
  },
  {
   "cell_type": "code",
   "execution_count": 9,
   "id": "6c7b4f7e",
   "metadata": {},
   "outputs": [
    {
     "name": "stdout",
     "output_type": "stream",
     "text": [
      "set()\n"
     ]
    }
   ],
   "source": [
    "#create an empty set\n",
    "s1 = set()\n",
    "print(s1)"
   ]
  },
  {
   "cell_type": "code",
   "execution_count": 55,
   "id": "a052d75d",
   "metadata": {},
   "outputs": [
    {
     "name": "stdout",
     "output_type": "stream",
     "text": [
      "{2, 3, 5, 7, 8, 10}\n",
      "{'A', 3, 5, 'b', 'a'}\n"
     ]
    }
   ],
   "source": [
    "#set will automatically reorder the number and delete duplicates\n",
    "s2 = {3,3,5,7,8,2,10} \n",
    "s3 = {'A','a','b',3,5}\n",
    "\n",
    "print(s2)\n",
    "print(s3)"
   ]
  },
  {
   "cell_type": "code",
   "execution_count": 56,
   "id": "2d6d1817",
   "metadata": {},
   "outputs": [
    {
     "name": "stdout",
     "output_type": "stream",
     "text": [
      "{1, 2, 3, 5, 7, 8, 10}\n"
     ]
    }
   ],
   "source": [
    "# set.add()\n",
    "s2.add(1)\n",
    "print(s2)"
   ]
  },
  {
   "cell_type": "code",
   "execution_count": 57,
   "id": "3833f76c",
   "metadata": {},
   "outputs": [
    {
     "name": "stdout",
     "output_type": "stream",
     "text": [
      "{1, 2, 3, 5, 8, 10}\n"
     ]
    }
   ],
   "source": [
    "# set.remove() removes an item from a set. \n",
    "# Will raise a KeyError exception if the specified item is not found in the set.\n",
    "s2.remove(7)\n",
    "print(s2)"
   ]
  },
  {
   "cell_type": "code",
   "execution_count": 58,
   "id": "d846aca2",
   "metadata": {},
   "outputs": [
    {
     "name": "stdout",
     "output_type": "stream",
     "text": [
      "{1, 2, 3, 5, 8, 10}\n"
     ]
    }
   ],
   "source": [
    "print(s2)"
   ]
  },
  {
   "cell_type": "code",
   "execution_count": 59,
   "id": "ea255dd5",
   "metadata": {},
   "outputs": [
    {
     "name": "stdout",
     "output_type": "stream",
     "text": [
      "1\n",
      "{2, 3, 5, 8, 10}\n",
      "2\n",
      "{3, 5, 8, 10}\n"
     ]
    }
   ],
   "source": [
    "# set.pop() removes a random item from the set\n",
    "# This method returns the removed item.\n",
    "print(s2.pop())\n",
    "print(s2)\n",
    "\n",
    "print(s2.pop())\n",
    "print(s2)"
   ]
  },
  {
   "cell_type": "code",
   "execution_count": 64,
   "id": "699ff0dc",
   "metadata": {},
   "outputs": [
    {
     "name": "stdout",
     "output_type": "stream",
     "text": [
      "{3, 5, 8, 10} {'A', 3, 5, 'b', 'a'}\n"
     ]
    }
   ],
   "source": [
    "print(s2, s3)"
   ]
  },
  {
   "cell_type": "code",
   "execution_count": 68,
   "id": "82adac5d",
   "metadata": {},
   "outputs": [
    {
     "data": {
      "text/plain": [
       "{3, 5}"
      ]
     },
     "execution_count": 68,
     "metadata": {},
     "output_type": "execute_result"
    },
    {
     "data": {
      "text/plain": [
       "{10, 3, 5, 8, 'A', 'a', 'b'}"
      ]
     },
     "execution_count": 68,
     "metadata": {},
     "output_type": "execute_result"
    },
    {
     "data": {
      "text/plain": [
       "{8, 10}"
      ]
     },
     "execution_count": 68,
     "metadata": {},
     "output_type": "execute_result"
    },
    {
     "data": {
      "text/plain": [
       "{10, 8, 'A', 'a', 'b'}"
      ]
     },
     "execution_count": 68,
     "metadata": {},
     "output_type": "execute_result"
    }
   ],
   "source": [
    "#set operations\n",
    "s2&s3           # find intersection between two sets\n",
    "s2|s3           # union two sets\n",
    "s2-s3           # find elements in set2 but not in set 3\n",
    "s2^s3           # find elements in set2 or set3 but not both"
   ]
  },
  {
   "cell_type": "code",
   "execution_count": 71,
   "id": "86312055",
   "metadata": {},
   "outputs": [
    {
     "data": {
      "text/plain": [
       "{10, 8, 'A', 'a', 'b'}"
      ]
     },
     "execution_count": 71,
     "metadata": {},
     "output_type": "execute_result"
    }
   ],
   "source": [
    "(s2|s3) - (s2&s3) # union - intersection"
   ]
  },
  {
   "cell_type": "markdown",
   "id": "f3a9d568",
   "metadata": {},
   "source": [
    "#### Set comprehension\n",
    "\n",
    "Similar to list comprehension."
   ]
  },
  {
   "cell_type": "code",
   "execution_count": 80,
   "id": "a211dcab",
   "metadata": {},
   "outputs": [
    {
     "data": {
      "text/plain": [
       "{'d', 'r'}"
      ]
     },
     "execution_count": 80,
     "metadata": {},
     "output_type": "execute_result"
    }
   ],
   "source": [
    "#Create a set with unique characters other than 'abc' in the following string \n",
    "check_char = 'abracadabra'\n",
    "\n",
    "#{char for char in check_char if char not in 'abc'}\n",
    "{char for char in check_char if char not in ('a','b','c')}"
   ]
  },
  {
   "cell_type": "markdown",
   "id": "7e7d8e0d",
   "metadata": {},
   "source": [
    "### Dictionary\n",
    "\n",
    "Use `{}` to create key-value pairs.\n",
    "\n",
    "- Dictionaries store a mapping between a series of unique keys and values\n",
    "- Dictionaries are indexed by immutable keys (strings, numbers, tuples)"
   ]
  },
  {
   "cell_type": "code",
   "execution_count": 84,
   "id": "ab43b4fd",
   "metadata": {},
   "outputs": [
    {
     "name": "stdout",
     "output_type": "stream",
     "text": [
      "{'one': 1, 'two': 2, 'three': 3}\n"
     ]
    }
   ],
   "source": [
    "d = {}\n",
    "d = {\"one\": 1, \n",
    "     \"two\": 2, \n",
    "     \"three\": 3}\n",
    "\n",
    "print(d)"
   ]
  },
  {
   "cell_type": "code",
   "execution_count": 83,
   "id": "d79945fc",
   "metadata": {},
   "outputs": [
    {
     "data": {
      "text/plain": [
       "dict"
      ]
     },
     "execution_count": 83,
     "metadata": {},
     "output_type": "execute_result"
    }
   ],
   "source": [
    "type(d)"
   ]
  },
  {
   "cell_type": "code",
   "execution_count": 85,
   "id": "ea2dee06",
   "metadata": {},
   "outputs": [
    {
     "name": "stdout",
     "output_type": "stream",
     "text": [
      "{'a': 1, 'b': 2, 'c': 3}\n"
     ]
    }
   ],
   "source": [
    "#create a dictionary with dict()\n",
    "a = [('a',1),('b',2),('c',3)]\n",
    "\n",
    "d1 = dict(a)\n",
    "print(d1)"
   ]
  },
  {
   "cell_type": "code",
   "execution_count": 87,
   "id": "813717b7",
   "metadata": {},
   "outputs": [
    {
     "data": {
      "text/plain": [
       "['one', 'two', 'three']"
      ]
     },
     "execution_count": 87,
     "metadata": {},
     "output_type": "execute_result"
    },
    {
     "data": {
      "text/plain": [
       "[1, 2, 3]"
      ]
     },
     "execution_count": 87,
     "metadata": {},
     "output_type": "execute_result"
    }
   ],
   "source": [
    "# separate keys and values with method values() and keys()\n",
    "list(d.keys())\n",
    "list(d.values())"
   ]
  },
  {
   "cell_type": "code",
   "execution_count": 88,
   "id": "97d6e6cb",
   "metadata": {},
   "outputs": [
    {
     "data": {
      "text/plain": [
       "1"
      ]
     },
     "execution_count": 88,
     "metadata": {},
     "output_type": "execute_result"
    }
   ],
   "source": [
    "# get a specific value from a dictionary, with method get()\n",
    "d.get('one')"
   ]
  },
  {
   "cell_type": "code",
   "execution_count": 91,
   "id": "83a55537",
   "metadata": {},
   "outputs": [
    {
     "name": "stdout",
     "output_type": "stream",
     "text": [
      "{'one': 1, 'two': 2, 'three': 3, 'four': 4, 'five': 5}\n"
     ]
    }
   ],
   "source": [
    "# update and remove dictionary element with method update() and del statement\n",
    "d.update({'four':4,'five':5})\n",
    "print(d)"
   ]
  },
  {
   "cell_type": "code",
   "execution_count": 94,
   "id": "f65fe4dc",
   "metadata": {},
   "outputs": [
    {
     "name": "stdout",
     "output_type": "stream",
     "text": [
      "{'one': 1, 'two': 2, 'three': 3, 'four': 4, 'five': 5}\n"
     ]
    }
   ],
   "source": [
    "print(d)"
   ]
  },
  {
   "cell_type": "code",
   "execution_count": 96,
   "id": "b1ffd040",
   "metadata": {},
   "outputs": [
    {
     "data": {
      "text/plain": [
       "True"
      ]
     },
     "execution_count": 96,
     "metadata": {},
     "output_type": "execute_result"
    },
    {
     "data": {
      "text/plain": [
       "True"
      ]
     },
     "execution_count": 96,
     "metadata": {},
     "output_type": "execute_result"
    }
   ],
   "source": [
    "#check whether a key is in a dictionary\n",
    "'one' in d\n",
    "\n",
    "#check whether a value is in a dictionary\n",
    "1 in d.values()"
   ]
  },
  {
   "cell_type": "markdown",
   "id": "4d76c292",
   "metadata": {},
   "source": [
    "#### Dict comprehensions \n",
    "\n",
    "It can be used to create dictionaries from arbitrary key and value expressions"
   ]
  },
  {
   "cell_type": "code",
   "execution_count": 99,
   "id": "13ce520c",
   "metadata": {},
   "outputs": [
    {
     "data": {
      "text/plain": [
       "{0: 0, 1: 1, 2: 4, 3: 9, 4: 16, 5: 25, 6: 36, 7: 49, 8: 64, 9: 81}"
      ]
     },
     "execution_count": 99,
     "metadata": {},
     "output_type": "execute_result"
    }
   ],
   "source": [
    "#create a list with squares of integers less than 10\n",
    "{x: x**2 for x in range(10)} "
   ]
  },
  {
   "cell_type": "markdown",
   "id": "4fa28386",
   "metadata": {},
   "source": [
    "## Magic Commands"
   ]
  },
  {
   "cell_type": "markdown",
   "id": "5f68b90a",
   "metadata": {},
   "source": [
    "Magic methods are special commands that provide additional functionality beyond standard Python syntax. \n",
    "\n",
    "There are two types of magic methods in Jupyter notebook: **line magics** and **cell magics**. \n",
    "- Line magics apply to the current line and start with `%` \n",
    "- while cell magics apply to the entire cell and start with `%%`"
   ]
  },
  {
   "cell_type": "markdown",
   "id": "7d56ec59",
   "metadata": {},
   "source": [
    "Find the full list of Magic Commands and descriptions here: https://ipython.readthedocs.io/en/stable/interactive/magics.html\n",
    "\n",
    "- `%lsmagic`: Lists all available magic commands\n",
    "- `%magic`: return full list magic commands with explanations"
   ]
  },
  {
   "cell_type": "markdown",
   "id": "c425d690",
   "metadata": {},
   "source": [
    "### List variables in the environment\n",
    "- `%who`: Lists all variables in the current namespace.\n",
    "- `%whos`: Provides a detailed list of variables, including their types and values."
   ]
  },
  {
   "cell_type": "code",
   "execution_count": 21,
   "id": "7cac53c7",
   "metadata": {},
   "outputs": [
    {
     "name": "stdout",
     "output_type": "stream",
     "text": [
      "s1\t s2\t s3\t tup\t \n"
     ]
    }
   ],
   "source": [
    "%who"
   ]
  },
  {
   "cell_type": "code",
   "execution_count": 22,
   "id": "e524dba8",
   "metadata": {},
   "outputs": [
    {
     "name": "stdout",
     "output_type": "stream",
     "text": [
      "Variable   Type     Data/Info\n",
      "-----------------------------\n",
      "s1         set      set()\n",
      "s2         set      {2, 3, 5, 7, 8, 10}\n",
      "s3         set      {'A', 3, 5, 'b', 'a'}\n",
      "tup        tuple    n=5\n"
     ]
    }
   ],
   "source": [
    "%whos"
   ]
  },
  {
   "cell_type": "markdown",
   "id": "5c28a036",
   "metadata": {},
   "source": [
    "## Reference\n",
    "1. https://www.py4e.com/\n",
    "2. https://gcdf-cuny.gitbook.io/data-analytics-in-digital-research-with-r/1.-r-basics/data-types\n",
    "3. https://www.w3schools.com/python/python_datatypes.asp\n",
    "4. https://github.com/YuxiaoLuo/Analytics_Python/blob/main/Python_Review/PythonReview_1.ipynb"
   ]
  }
 ],
 "metadata": {
  "kernelspec": {
   "display_name": "Python 3",
   "language": "python",
   "name": "python3"
  },
  "language_info": {
   "codemirror_mode": {
    "name": "ipython",
    "version": 3
   },
   "file_extension": ".py",
   "mimetype": "text/x-python",
   "name": "python",
   "nbconvert_exporter": "python",
   "pygments_lexer": "ipython3",
   "version": "3.11.1"
  }
 },
 "nbformat": 4,
 "nbformat_minor": 5
}

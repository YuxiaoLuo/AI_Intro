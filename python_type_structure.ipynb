{
 "cells": [
  {
   "cell_type": "markdown",
   "id": "a368b41d",
   "metadata": {},
   "source": [
    "# Data Types and Structures\n",
    "Data types are classifications associated with specific data that let the computer know how to interpret the value and how a programmer intends to use a piece of data. \n",
    "\n",
    "Here is a list of common data types in Python:\n",
    "1. Numeric Types:\n",
    "    - `int`: integer, whole numbers (e.g., `1`, `2`, `-3`)\n",
    "    - `float`: decimal numbers (e.g., `3.14`, `-2.7`)\n",
    "    - `complex`: complex numbers (e.g., `1 + 2j`)\n",
    "2. Sequence Types:\n",
    "    - `str`: string, a sequence of characters (e.g., `\"Hello, World!\"`)\n",
    "    - `list`: an ordered, mutable collection of items (e.g., `[1, 2, \"three\"]`)\n",
    "    - `tuple`: an ordered, immutable collection of items (e.g., `(1, 2, \"three\")`)\n",
    "3. Mapping Type:\n",
    "    - `dict`: dictionary, a collection of key-value pairs (e.g., `{\"name\": \"Rain\", \"age\": 30}`)\n",
    "4. Set Types:\n",
    "    - `set`: an unordered collection of unique items (e.g., `{1, 2, 3}`)\n",
    "    - `frozenset`: an unordered, immutable collection of unique items (e.g., frozenset`({1, 2, 3})`)\n",
    "5. Boolean Type:\n",
    "    - `bool`: boolean, a logical value (`True` or `False`)\n",
    "6. None Type:\n",
    "    - `None`: the absence of a value (i.e., not available, N/A, NA)"
   ]
  },
  {
   "cell_type": "markdown",
   "id": "8bc07524",
   "metadata": {},
   "source": [
    "[![Open In Colab](https://colab.research.google.com/assets/colab-badge.svg)](https://colab.research.google.com/github/YuxiaoLuo/AI_Intro/blob/main/python_type_structure.ipynb)"
   ]
  },
  {
   "cell_type": "code",
   "execution_count": 1,
   "id": "12b24160",
   "metadata": {},
   "outputs": [
    {
     "data": {
      "text/plain": [
       "(1, 2, 'three')"
      ]
     },
     "execution_count": 1,
     "metadata": {},
     "output_type": "execute_result"
    }
   ],
   "source": [
    "(1,2,\"three\")"
   ]
  },
  {
   "cell_type": "code",
   "execution_count": null,
   "id": "239ac621",
   "metadata": {},
   "outputs": [],
   "source": []
  },
  {
   "cell_type": "code",
   "execution_count": null,
   "id": "0f3fe49a",
   "metadata": {},
   "outputs": [],
   "source": []
  },
  {
   "cell_type": "code",
   "execution_count": null,
   "id": "6b4e590f",
   "metadata": {},
   "outputs": [],
   "source": []
  }
 ],
 "metadata": {
  "kernelspec": {
   "display_name": "Python 3 (ipykernel)",
   "language": "python",
   "name": "python3"
  },
  "language_info": {
   "codemirror_mode": {
    "name": "ipython",
    "version": 3
   },
   "file_extension": ".py",
   "mimetype": "text/x-python",
   "name": "python",
   "nbconvert_exporter": "python",
   "pygments_lexer": "ipython3",
   "version": "3.11.1"
  }
 },
 "nbformat": 4,
 "nbformat_minor": 5
}

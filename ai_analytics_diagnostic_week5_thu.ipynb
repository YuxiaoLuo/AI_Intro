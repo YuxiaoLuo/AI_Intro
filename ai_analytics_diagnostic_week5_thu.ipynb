{
 "cells": [
  {
   "cell_type": "markdown",
   "metadata": {},
   "source": [
    "# Diagnostic Analytics with ChatGPT\n",
    "Credit to: [Youngeui Kim](https://cis.appstate.edu/directory/youngeui-kim-phd), [Yuxiao (Rain) Luo](https://yuxiaoluo.github.io)"
   ]
  },
  {
   "cell_type": "markdown",
   "metadata": {},
   "source": [
    "[![Open In Colab](https://colab.research.google.com/assets/colab-badge.svg)](https://colab.research.google.com/github/YuxiaoLuo/AI_Intro/blob/main/ai_analytics_diagnostic_week5_thu.ipynb)"
   ]
  },
  {
   "cell_type": "markdown",
   "metadata": {},
   "source": [
    "## Use ChatGPT to generate Python code\n",
    "\n",
    "We try to answer this business question: What are the effects of Rating, Length, Sentiment, and Helpfulon SalesUp?\n",
    "\n",
    "- Required information\n",
    "    1. File path where the data is saved\n",
    "    2. Variable name(s)you want to use/analyze (case-sensitive)\n",
    "        - If needed, you can specify pre-processingstep of the variable(s). e.g., assign 1 to “positive” and assign -1 to “negative”)\n",
    "    3. Analytic method\n",
    "    4. If needed, specify “where” to save the result with a desired “name”\n",
    "    5. Asking for generating python code, etc.\n",
    "\n",
    "- To do that\n",
    "    1. Determine analytic method\n",
    "    2. Check the variable values (i.e., are they appropriate to be analyzed)?\n",
    "    3. Generate Python code\n",
    "    4. Run the code in Python\n",
    "\n",
    "- Prompt example\n",
    ">I want to run Poisson regression using Rating, Length, and Sentiment as independent variables and Votes as a dependent variable. The Sentiment variable has values of \"positive\" and \"negative\", which need to be converted to +1 and -1, respectively. all those variables are in my data, ReviewData.csv. Can you help me generate python code for this analysis?\n",
    "\n",
    "- Once you get the code\n",
    "    1. take a careful look (see if the code makes sense)\n",
    "    2. run it."
   ]
  },
  {
   "cell_type": "code",
   "execution_count": 4,
   "metadata": {},
   "outputs": [
    {
     "name": "stdout",
     "output_type": "stream",
     "text": [
      "                 Generalized Linear Model Regression Results                  \n",
      "==============================================================================\n",
      "Dep. Variable:                  Votes   No. Observations:                  100\n",
      "Model:                            GLM   Df Residuals:                       96\n",
      "Model Family:                 Poisson   Df Model:                            3\n",
      "Link Function:                    Log   Scale:                          1.0000\n",
      "Method:                          IRLS   Log-Likelihood:                -124.74\n",
      "Date:                Tue, 04 Mar 2025   Deviance:                       173.44\n",
      "Time:                        11:11:49   Pearson chi2:                     246.\n",
      "No. Iterations:                     5   Pseudo R-squ. (CS):            0.01943\n",
      "Covariance Type:            nonrobust                                         \n",
      "==============================================================================\n",
      "                 coef    std err          z      P>|z|      [0.025      0.975]\n",
      "------------------------------------------------------------------------------\n",
      "const         -1.7062      1.354     -1.260      0.208      -4.361       0.948\n",
      "Rating         0.2964      0.350      0.848      0.396      -0.389       0.981\n",
      "Length         0.0019      0.002      0.879      0.379      -0.002       0.006\n",
      "Sentiment     -0.4120      0.410     -1.006      0.315      -1.215       0.391\n",
      "==============================================================================\n"
     ]
    }
   ],
   "source": [
    "import pandas as pd\n",
    "import statsmodels.api as sm\n",
    "from patsy import dmatrices\n",
    "\n",
    "# Load the dataset\n",
    "file_path = 'data/week4_Thu_PythonAnalytics_review data example.csv'\n",
    "df = pd.read_csv(file_path)\n",
    "\n",
    "# Convert Sentiment to numeric values\n",
    "df['Sentiment'] = df['Sentiment'].map({'positive': 1, 'negative': -1})\n",
    "\n",
    "# Define independent variables (Rating, Length, Sentiment) and dependent variable (Votes)\n",
    "X = df[['Rating', 'Length', 'Sentiment']]\n",
    "y = df['Votes']\n",
    "\n",
    "# Add a constant for the intercept\n",
    "X = sm.add_constant(X)\n",
    "\n",
    "# Fit a Poisson regression model\n",
    "poisson_model = sm.GLM(y, X, family=sm.families.Poisson()).fit()\n",
    "\n",
    "# Print the summary of the model\n",
    "print(poisson_model.summary())"
   ]
  }
 ],
 "metadata": {
  "kernelspec": {
   "display_name": "Python 3",
   "language": "python",
   "name": "python3"
  },
  "language_info": {
   "codemirror_mode": {
    "name": "ipython",
    "version": 3
   },
   "file_extension": ".py",
   "mimetype": "text/x-python",
   "name": "python",
   "nbconvert_exporter": "python",
   "pygments_lexer": "ipython3",
   "version": "3.11.1"
  }
 },
 "nbformat": 4,
 "nbformat_minor": 2
}

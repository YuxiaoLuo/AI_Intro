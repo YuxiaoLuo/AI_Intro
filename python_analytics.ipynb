{
 "cells": [
  {
   "cell_type": "markdown",
   "id": "f35a71ff",
   "metadata": {},
   "source": [
    "# Python for Analytics\n",
    "\n",
    "This tutorial will introudce the basics of using Python for analytics.\n",
    "\n",
    "1. Python packages\n",
    "2. Import data\n",
    "    - `.csv` data file\n",
    "    - `.jpeg` image file\n",
    "3. Pre-processing data\n",
    "4. Data analysis examples\n",
    "    - Text analysis: Wordcloud and Wordcount\n",
    "    - Summary statistics\n",
    "5. Export data"
   ]
  },
  {
   "cell_type": "markdown",
   "id": "bcf5e4ad",
   "metadata": {},
   "source": [
    "[![Open In Colab](https://colab.research.google.com/assets/colab-badge.svg)](https://colab.research.google.com/github/YuxiaoLuo/AI_Intro/blob/main/python_analytics.ipynb)"
   ]
  },
  {
   "cell_type": "code",
   "execution_count": null,
   "id": "89d32077",
   "metadata": {},
   "outputs": [],
   "source": []
  },
  {
   "cell_type": "code",
   "execution_count": null,
   "id": "9e2c93a0",
   "metadata": {},
   "outputs": [],
   "source": []
  }
 ],
 "metadata": {
  "kernelspec": {
   "display_name": "Python 3 (ipykernel)",
   "language": "python",
   "name": "python3"
  },
  "language_info": {
   "codemirror_mode": {
    "name": "ipython",
    "version": 3
   },
   "file_extension": ".py",
   "mimetype": "text/x-python",
   "name": "python",
   "nbconvert_exporter": "python",
   "pygments_lexer": "ipython3",
   "version": "3.11.1"
  }
 },
 "nbformat": 4,
 "nbformat_minor": 5
}

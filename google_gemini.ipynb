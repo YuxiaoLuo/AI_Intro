{
 "cells": [
  {
   "cell_type": "markdown",
   "id": "c7d7b6d0",
   "metadata": {},
   "source": [
    "# Use LLM via Google Generative AI API\n",
    "\n",
    "This tutorial uses Google Generative AI model (Gemini series) via Python. Google is the only AI platform offering free API to its up-to-date LLM currently.\n",
    "\n",
    "Specifically, we will use the [Gemini 2.0 Flash (Experimental)](https://ai.google.dev/gemini-api/docs/models/gemini#gemini-2.0-flash) model, which contains 40-billion parameters."
   ]
  },
  {
   "cell_type": "markdown",
   "id": "f869a33b",
   "metadata": {},
   "source": [
    "## Steps\n",
    "1. Go to [Google AI Studio](https://aistudio.google.com/) and log in with your Google Account.\n",
    "    - If you don't have Google account, you can register on their website (it's free).\n",
    "<br><br>    \n",
    "2. Click \"Get API Key\".\n",
    "\n",
    "\n",
    "Reference: Gemini API reference: https://ai.google.dev/api?lang=python."
   ]
  },
  {
   "cell_type": "markdown",
   "id": "cc56502b",
   "metadata": {},
   "source": [
    "## Hands-on section\n",
    "### Install google generative API python package."
   ]
  },
  {
   "cell_type": "code",
   "execution_count": 2,
   "id": "526aab28",
   "metadata": {},
   "outputs": [],
   "source": [
    "import google.generativeai as genai"
   ]
  },
  {
   "cell_type": "markdown",
   "id": "7db1c0f5",
   "metadata": {},
   "source": [
    "### Enter your API key in the `configure` method, and specify the Google Generative AI Model you intend to use.\n",
    "\n",
    "Here is a list of all the available model provided by Google AI: https://ai.google.dev/gemini-api/docs/models/gemini."
   ]
  },
  {
   "cell_type": "code",
   "execution_count": 6,
   "id": "c2baa028",
   "metadata": {},
   "outputs": [],
   "source": [
    "genai.configure(api_key=\"xxxxxxxxxxxxxxxxxxxxxxxxxxxxxxxx\")\n",
    "model = genai.GenerativeModel(\"gemini-2.0-flash-exp\")"
   ]
  },
  {
   "cell_type": "markdown",
   "id": "bad7251d",
   "metadata": {},
   "source": [
    "### Enter the prompt and get response\n",
    "1. Enter a prompt\n",
    "\n",
    "The prompt is the same as the text you enter to talk to ChatGPT."
   ]
  },
  {
   "cell_type": "code",
   "execution_count": 32,
   "id": "1a9d5e51",
   "metadata": {},
   "outputs": [],
   "source": [
    "prompt = \"Write one concise email for me to directly refuse a student who asks for homework extension.\""
   ]
  },
  {
   "cell_type": "code",
   "execution_count": 33,
   "id": "cb953e5e",
   "metadata": {},
   "outputs": [],
   "source": [
    "response = model.generate_content(prompt)"
   ]
  },
  {
   "cell_type": "markdown",
   "id": "0edf97d7",
   "metadata": {},
   "source": [
    "2. Check meta data of the AI response."
   ]
  },
  {
   "cell_type": "code",
   "execution_count": 34,
   "id": "884fb629",
   "metadata": {},
   "outputs": [
    {
     "name": "stdout",
     "output_type": "stream",
     "text": [
      "prompt_token_count: 18\n",
      "candidates_token_count: 29\n",
      "total_token_count: 47\n",
      "\n"
     ]
    }
   ],
   "source": [
    "print(response.usage_metadata)"
   ]
  },
  {
   "cell_type": "markdown",
   "id": "65baff24",
   "metadata": {},
   "source": [
    "3. Check the text response."
   ]
  },
  {
   "cell_type": "code",
   "execution_count": 13,
   "id": "b50c572a",
   "metadata": {},
   "outputs": [
    {
     "name": "stdout",
     "output_type": "stream",
     "text": [
      "Okay, here are a few options, ranging from slightly softer to very direct. Choose the one that best fits your style and the situation:\n",
      "\n",
      "**Option 1 (Slightly Softer):**\n",
      "\n",
      "Subject: Re: Homework Extension Request\n",
      "\n",
      "Hi [Student Name],\n",
      "\n",
      "Thank you for your email. Unfortunately, I am unable to grant an extension for the homework assignment. Please submit it by the original deadline.\n",
      "\n",
      "Best,\n",
      "[Your Name]\n",
      "\n",
      "**Option 2 (Direct):**\n",
      "\n",
      "Subject: Re: Homework Extension Request\n",
      "\n",
      "Hi [Student Name],\n",
      "\n",
      "I am not able to grant an extension for this assignment. Please submit your work by the original deadline.\n",
      "\n",
      "Regards,\n",
      "[Your Name]\n",
      "\n",
      "**Option 3 (Very Direct):**\n",
      "\n",
      "Subject: Re: Homework Extension Request\n",
      "\n",
      "Hi [Student Name],\n",
      "\n",
      "No, I cannot grant an extension. The homework is due as originally scheduled.\n",
      "\n",
      "[Your Name]\n",
      "\n",
      "**Important Considerations:**\n",
      "\n",
      "*   **Your Course Policy:** Ensure your chosen response aligns with your syllabus and course policy regarding extensions.\n",
      "*   **Consistency:** Be consistent with your decisions. Granting exceptions inconsistently can lead to problems.\n",
      "*   **Student Reason:** If you know the reason for the request (and it's serious), you might consider slightly modifying the wording to acknowledge it, but still maintain your policy (e.g., \"I understand [brief mention of reason], but unfortunately I cannot grant an extension this time.\"). However, it's best to avoid this unless it's a truly exceptional case.\n",
      "*   **Office Hours:** You could also add a brief line to invite them to discuss their struggles during office hours, but only if you're genuinely available and willing to help with the content itself, not with pushing the deadline.\n",
      "\n",
      "Choose the option you feel most comfortable with. Remember, being clear and direct is often the most helpful.\n",
      "\n"
     ]
    }
   ],
   "source": [
    "print(response.text)"
   ]
  },
  {
   "cell_type": "markdown",
   "id": "30ee4455",
   "metadata": {},
   "source": [
    "### Add configuration to the model\n",
    "You can maniuplate configuration parameters to tune the reponses using the parameter `genai.GenerationConfig`."
   ]
  },
  {
   "cell_type": "markdown",
   "id": "a8482309",
   "metadata": {},
   "source": [
    "The key parameters are:\n",
    "\n",
    "- Temperature: Controls randomness, higher values increase diversity.\n",
    "\n",
    "- Top-p (nucleus): The cumulative probability cutoff for token selection. Lower values mean sampling from a smaller, more top-weighted nucleus. \n",
    "    - Ex., if Top P is set at 0.1, only tokens comprising the top 10% probability mass are considered.\n",
    "\n",
    "- Top-k: Sample from the k most likely next tokens at each step. Lower k focuses on higher probability tokens. \n",
    "    - Ex., a Top K of 50 means we “Only look at the best 50 tokens.”\n",
    "\n",
    "In general:\n",
    "\n",
    "- Higher temperature will make outputs more random and diverse.\n",
    "\n",
    "- Lower top-p values reduce diversity and focus on more probable tokens.\n",
    "\n",
    "- Lower top-k also concentrates sampling on the highest probability tokens for each step.\n",
    "\n",
    "> Different models have different range for the parameters, you should always check them in the manual.\n",
    "\n",
    "Source: https://cloud.google.com/vertex-ai/generative-ai/docs/learn/prompts/adjust-parameter-values"
   ]
  },
  {
   "cell_type": "code",
   "execution_count": 44,
   "id": "b86b6ac7",
   "metadata": {},
   "outputs": [
    {
     "name": "stdout",
     "output_type": "stream",
     "text": [
      "Subject: Re: Homework Extension Request\n",
      "\n",
      "Thank you for your email. Unfortunately, I am unable to grant an extension on the homework assignment. Please submit it by the original deadline.\n",
      "\n"
     ]
    }
   ],
   "source": [
    "# use the same prompt, we only change the parameters\n",
    "response = model.generate_content(\n",
    "    prompt,\n",
    "    generation_config = genai.GenerationConfig(\n",
    "        max_output_tokens= 1000,\n",
    "        temperature= 0.1,\n",
    "        top_p = 0.5,\n",
    "        top_k = 40\n",
    "    )\n",
    ")\n",
    "print(response.text)"
   ]
  },
  {
   "cell_type": "code",
   "execution_count": 43,
   "id": "6744f243",
   "metadata": {},
   "outputs": [
    {
     "name": "stdout",
     "output_type": "stream",
     "text": [
      "Subject: Re: Homework Extension Request\n",
      "\n",
      "Hi [Student Name],\n",
      "\n",
      "I'm unable to grant an extension for this assignment. Please submit your work by the original deadline.\n",
      "\n",
      "Thanks,\n",
      "[Your Name]\n",
      "\n"
     ]
    }
   ],
   "source": [
    "# use the same prompt, we only change the parameters\n",
    "response = model.generate_content(\n",
    "    prompt,\n",
    "    generation_config = genai.GenerationConfig(\n",
    "        max_output_tokens= 1000,\n",
    "        temperature= 1,\n",
    "        top_p = 0.5,\n",
    "        top_k = 40\n",
    "    )\n",
    ")\n",
    "print(response.text)"
   ]
  },
  {
   "cell_type": "code",
   "execution_count": null,
   "id": "a57ae880",
   "metadata": {},
   "outputs": [],
   "source": []
  }
 ],
 "metadata": {
  "kernelspec": {
   "display_name": "Python 3",
   "language": "python",
   "name": "python3"
  },
  "language_info": {
   "codemirror_mode": {
    "name": "ipython",
    "version": 3
   },
   "file_extension": ".py",
   "mimetype": "text/x-python",
   "name": "python",
   "nbconvert_exporter": "python",
   "pygments_lexer": "ipython3",
   "version": "3.11.1"
  }
 },
 "nbformat": 4,
 "nbformat_minor": 5
}

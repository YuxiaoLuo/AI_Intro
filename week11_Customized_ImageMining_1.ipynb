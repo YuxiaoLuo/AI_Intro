{
 "cells": [
  {
   "cell_type": "markdown",
   "id": "74b9b113",
   "metadata": {},
   "source": [
    "# Hands-on Session for Customized Image Mining 1\n",
    "\n",
    "\n",
    "Credit to: [Youngeui Kim](https://cis.appstate.edu/directory/youngeui-kim-phd), [Yuxiao (Rain) Luo](https://yuxiaoluo.github.io)\n",
    "\n",
    "[![Open In Colab](https://colab.research.google.com/assets/colab-badge.svg)](https://colab.research.google.com/github/YuxiaoLuo/AI_Intro/blob/main/week11_Customized_ImageMining_1.ipynb)\n",
    "\n",
    "In this tutorial, we will detection the objects in a short video.\n"
   ]
  },
  {
   "cell_type": "markdown",
   "id": "0f673d62",
   "metadata": {},
   "source": [
    "### Install necessary packages."
   ]
  },
  {
   "cell_type": "code",
   "execution_count": 3,
   "id": "b4806e1c",
   "metadata": {
    "collapsed": true
   },
   "outputs": [
    {
     "name": "stdout",
     "output_type": "stream",
     "text": [
      "Requirement already satisfied: opencv-python in c:\\users\\yuxiaoluo\\appdata\\local\\programs\\python\\python311\\lib\\site-packages (4.9.0.80)\n",
      "Requirement already satisfied: opencv-python-headless in c:\\users\\yuxiaoluo\\appdata\\local\\programs\\python\\python311\\lib\\site-packages (4.11.0.86)\n",
      "Requirement already satisfied: opencv-contrib-python in c:\\users\\yuxiaoluo\\appdata\\local\\programs\\python\\python311\\lib\\site-packages (4.11.0.86)\n",
      "Requirement already satisfied: numpy in c:\\users\\yuxiaoluo\\appdata\\local\\programs\\python\\python311\\lib\\site-packages (2.1.3)\n",
      "Requirement already satisfied: matplotlib in c:\\users\\yuxiaoluo\\appdata\\local\\programs\\python\\python311\\lib\\site-packages (3.7.2)\n",
      "Requirement already satisfied: contourpy>=1.0.1 in c:\\users\\yuxiaoluo\\appdata\\local\\programs\\python\\python311\\lib\\site-packages (from matplotlib) (1.1.0)\n",
      "Requirement already satisfied: cycler>=0.10 in c:\\users\\yuxiaoluo\\appdata\\local\\programs\\python\\python311\\lib\\site-packages (from matplotlib) (0.11.0)\n",
      "Requirement already satisfied: fonttools>=4.22.0 in c:\\users\\yuxiaoluo\\appdata\\local\\programs\\python\\python311\\lib\\site-packages (from matplotlib) (4.42.0)\n",
      "Requirement already satisfied: kiwisolver>=1.0.1 in c:\\users\\yuxiaoluo\\appdata\\local\\programs\\python\\python311\\lib\\site-packages (from matplotlib) (1.4.4)\n",
      "Requirement already satisfied: packaging>=20.0 in c:\\users\\yuxiaoluo\\appdata\\local\\programs\\python\\python311\\lib\\site-packages (from matplotlib) (24.2)\n",
      "Requirement already satisfied: pillow>=6.2.0 in c:\\users\\yuxiaoluo\\appdata\\local\\programs\\python\\python311\\lib\\site-packages (from matplotlib) (10.3.0)\n",
      "Requirement already satisfied: pyparsing<3.1,>=2.3.1 in c:\\users\\yuxiaoluo\\appdata\\local\\programs\\python\\python311\\lib\\site-packages (from matplotlib) (3.0.9)\n",
      "Requirement already satisfied: python-dateutil>=2.7 in c:\\users\\yuxiaoluo\\appdata\\local\\programs\\python\\python311\\lib\\site-packages (from matplotlib) (2.8.2)\n",
      "Requirement already satisfied: six>=1.5 in c:\\users\\yuxiaoluo\\appdata\\local\\programs\\python\\python311\\lib\\site-packages (from python-dateutil>=2.7->matplotlib) (1.17.0)\n"
     ]
    }
   ],
   "source": [
    "!pip install opencv-python opencv-python-headless opencv-contrib-python numpy matplotlib"
   ]
  },
  {
   "cell_type": "markdown",
   "id": "6c3395f9",
   "metadata": {},
   "source": [
    "Note: if this code returns an error such as \n",
    "\n",
    "```\n",
    "\"\"ERROR: Could not install packages due to an EnvironmentError: [WinError 5] Access is denied:\n",
    "```\n",
    "Try the code below."
   ]
  },
  {
   "cell_type": "code",
   "execution_count": null,
   "id": "76c9e0cc",
   "metadata": {},
   "outputs": [],
   "source": [
    "!!cmd\n",
    "pip install --user opencv-python opencv-python-headless opencv-contrib-python numpy matplotlib"
   ]
  },
  {
   "cell_type": "code",
   "execution_count": null,
   "id": "4c514c9a",
   "metadata": {},
   "outputs": [],
   "source": [
    "pip install opencv-python opencv-python-headless opencv-contrib-python numpy matplotlib"
   ]
  },
  {
   "cell_type": "markdown",
   "id": "1874a504",
   "metadata": {},
   "source": [
    "### Make sure you have the 3 required files\n",
    "You can download them from our GitHub repo: https://github.com/YuxiaoLuo/AI_Intro/tree/main/data/image_mining.\n",
    "\n",
    ">Original sources:\n",
    ">    - configuration file at https://gist.github.com/dkurt/54a8e8b51beb3bd3f770b79e56927bd7\n",
    ">    - frozen_model file at https://github.com/datitran/object_detector_app/blob/master/object_detection/ssd_mobilenet_v1_coco_11_06_2017/frozen_inference_graph.pb\n",
    ">    - cocoLabels file at https://github.com/amikelive/coco-labels/blob/master/coco-labels-2014_2017.txt\n"
   ]
  },
  {
   "cell_type": "markdown",
   "id": "da0e6d59",
   "metadata": {},
   "source": [
    "### Download the demo video ([traffic.mp4](https://github.com/YuxiaoLuo/AI_Intro/blob/main/data/customized_image_mining/traffic.mp4))\n",
    "After you download it, please place the video in the folder of you Python script for object detection.\n",
    "\n",
    "Video source: https://github.com/OlafenwaMoses/ImageAI/blob/master/data-videos/traffic.mp4"
   ]
  },
  {
   "cell_type": "code",
   "execution_count": null,
   "id": "41b37238",
   "metadata": {},
   "outputs": [],
   "source": [
    "# if you do not have such packages: opencv-python opencv-python-headless numpy matplotlib\n",
    "# run the code below first\n",
    "# pip install opencv-python opencv-python-headless numpy matplotlib\n",
    "\n",
    "\n",
    "import cv2\n",
    "import matplotlib.pyplot as plt\n",
    "from google.colab.patches import cv2_imshow\n",
    "    \n",
    "# Load the model configuration and weights\n",
    "config_file = 'ssd_mobilenet_v3_large_coco_2020_01_14.pbtxt'\n",
    "frozen_model = 'frozen_inference_graph.pb'\n",
    "\n",
    "model = cv2.dnn_DetectionModel(frozen_model, config_file)\n",
    "\n",
    "# Load class labels\n",
    "classLabels = []\n",
    "file_name = 'cocoLabels.txt'\n",
    "with open(file_name, 'rt') as fpt:\n",
    "    classLabels = fpt.read().rstrip('\\n').split('\\n')\n",
    "    \n",
    "    \n",
    "print(classLabels)\n",
    "\n",
    "# Set model input parameters\n",
    "model.setInputSize(320, 320)\n",
    "model.setInputScale(1.0/127.5)\n",
    "model.setInputMean((127.5, 127.5, 127.5))\n",
    "model.setInputSwapRB(True)\n",
    "\n",
    "# Open video source\n",
    "cap = cv2.VideoCapture(\"traffic.mp4\")  # Correct the function name\n",
    "\n",
    "# Check if the video source is opened\n",
    "if not cap.isOpened():\n",
    "    cap = cv2.VideoCapture(0)\n",
    "if not cap.isOpened():\n",
    "    raise IOError(\"Cannot open video\")\n",
    "    \n",
    "font_scale = 3\n",
    "font = cv2.FONT_HERSHEY_PLAIN\n",
    "\n",
    "# Object detection loop\n",
    "while True:\n",
    "    ret, frame = cap.read()\n",
    "    \n",
    "    if not ret:\n",
    "        break\n",
    "    \n",
    "    # Assuming the model is defined earlier in code\n",
    "    ClassIndex, confidence, bbox = model.detect(frame, confThreshold=0.55)\n",
    "    \n",
    "    if len(ClassIndex) != 0:\n",
    "        for ClassInd, conf, boxes in zip(ClassIndex.flatten(), confidence.flatten(), bbox):\n",
    "            if ClassInd <= 80:\n",
    "                x, y, w, h = boxes\n",
    "                cv2.rectangle(frame, (x, y), (x + w, y + h), (255, 0, 0), 2)\n",
    "                cv2.putText(frame, classLabels[ClassInd - 1], (x + 10, y + 40), font, \n",
    "                            fontScale=font_scale, color=(0, 255, 0), thickness=5)\n",
    "    \n",
    "    cv2_imshow(frame)\n",
    "    \n",
    "    if cv2.waitKey(2) & 0xFF == ord('q'):  # Exit on 'q' key press\n",
    "        break\n",
    "\n",
    "# Release resources\n",
    "cap.release()\n",
    "cv2.destroyAllWindows()"
   ]
  }
 ],
 "metadata": {
  "kernelspec": {
   "display_name": "Python 3 (ipykernel)",
   "language": "python",
   "name": "python3"
  },
  "language_info": {
   "codemirror_mode": {
    "name": "ipython",
    "version": 3
   },
   "file_extension": ".py",
   "mimetype": "text/x-python",
   "name": "python",
   "nbconvert_exporter": "python",
   "pygments_lexer": "ipython3",
   "version": "3.11.1"
  }
 },
 "nbformat": 4,
 "nbformat_minor": 5
}
